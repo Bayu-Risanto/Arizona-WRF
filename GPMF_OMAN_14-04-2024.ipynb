{
 "cells": [
  {
   "cell_type": "code",
   "execution_count": 1,
   "id": "66d2796d-b9f7-46ab-9aa9-1e503b355942",
   "metadata": {},
   "outputs": [],
   "source": [
    "## This script is to plot GPMF hourly over OMAN and total precipitation \n",
    "## Created by C. Bayu Risanto, S.J. (1 March 2025)\n",
    "import warnings \n",
    "warnings.filterwarnings('ignore')\n",
    "import os\n",
    "import numpy as np\n",
    "from numpy import matlib\n",
    "import scipy as sp\n",
    "from random import *\n",
    "import math as mt\n",
    "from math import * #cos,sin,asin,sqrt,pi,radians,atan2\n",
    "import matplotlib\n",
    "import matplotlib.pyplot as plt\n",
    "import matplotlib.lines as mlines\n",
    "import matplotlib.ticker as mticker\n",
    "import matplotlib.dates as mdates\n",
    "#from mpl_toolkits.basemap import Basemap # map functionality\n",
    "from matplotlib.patches import Polygon\n",
    "from matplotlib import cm\n",
    "from matplotlib.patches import Patch\n",
    "import matplotlib.colors as mcolors\n",
    "from matplotlib.colors import BoundaryNorm\n",
    "from matplotlib.colors import ListedColormap,LinearSegmentedColormap\n",
    "import cartopy\n",
    "import cartopy.crs as ccrs\n",
    "import cartopy.feature as cfeature\n",
    "from cartopy.io.shapereader import Reader\n",
    "from cartopy.feature import ShapelyFeature\n",
    "from cartopy.mpl.ticker import LongitudeFormatter, LatitudeFormatter\n",
    "from cartopy.mpl.gridliner import LONGITUDE_FORMATTER, LATITUDE_FORMATTER\n",
    "\n",
    "import xarray as xr\n",
    "import netCDF4 as nc\n",
    "from netCDF4 import Dataset\n",
    "import pandas as pd\n",
    "from datetime import date, datetime, timedelta\n",
    "import sys\n",
    "import glob\n",
    "\n",
    "## opener\n",
    "def readGP(ncfile):\n",
    "    dx = xr.open_dataset(ncfile)\n",
    "    pcp = dx.GPM_3IMERGHH_07_precipitation[0,:,:]\n",
    "    lat = dx.lat[:]\n",
    "    lon = dx.lon[:]\n",
    "    return pcp,lat,lon\n",
    "def read_nc(ncfile):\n",
    "    dx = xr.open_dataset(ncfile)\n",
    "    HGT = dx.HGT_M[0,:,:]\n",
    "    lon = dx.XLONG_M[0,:,:]\n",
    "    lat = dx.XLAT_M[0,:,:]\n",
    "    return HGT,lon,lat"
   ]
  },
  {
   "cell_type": "code",
   "execution_count": 2,
   "id": "00279db3-50ae-40ee-91b3-615b68bbea45",
   "metadata": {},
   "outputs": [],
   "source": [
    "## Get Time of interests\n",
    "sdate = '202404130000'\n",
    "edate = '202404162330'\n",
    "datestrform = '%Y%m%d%H%M'\n",
    "date_st = datetime.strptime(sdate,datestrform)-timedelta(hours=0.5)\n",
    "date_en = datetime.strptime(edate,datestrform)\n",
    "dateList = [date_st.strftime(datestrform)]\n",
    "date_time = date_st; dateList = []\n",
    "while date_time < date_en:\n",
    "    date_time += timedelta(hours=0.5)\n",
    "    dateList.append(date_time.strftime(datestrform))\n",
    "dateList = np.asarray(dateList)\n"
   ]
  },
  {
   "cell_type": "code",
   "execution_count": 3,
   "id": "78cfddac-5bdb-47a2-937f-1d4a7b636408",
   "metadata": {},
   "outputs": [],
   "source": [
    "## Read data GPMF\n",
    "link = '/home/bayu/DATA/LIRIC/OMAN/observed/GPMF_hr/'\n",
    "pcp_al = []\n",
    "for i in range(len(dateList)):\n",
    "    ncfile = 'g4.subsetted.GPM_3IMERGHH_07_precipitation.'+dateList[i]+'00.49E_15N_64E_27N.nc'\n",
    "    pcp,_,_ = readGP(link+ncfile)\n",
    "    pcp_al.append(pcp)\n",
    "al_pcp = np.asarray(pcp_al)"
   ]
  },
  {
   "cell_type": "code",
   "execution_count": 4,
   "id": "7e384b3b-31e1-40d9-9db6-fdf20ea2ddd6",
   "metadata": {},
   "outputs": [],
   "source": [
    "## get lat lon\n",
    "_,lat,lon = readGP(link+ncfile)\n",
    "xlon = np.matlib.repmat(lon,len(lat),1)    ; #print(xlon.shape)\n",
    "xlat = np.matlib.repmat(lat,len(lon),1).T      ; #print(xlat.shape)"
   ]
  },
  {
   "cell_type": "code",
   "execution_count": 5,
   "id": "71892b62-339e-4d10-a420-706e7072528f",
   "metadata": {},
   "outputs": [
    {
     "name": "stdout",
     "output_type": "stream",
     "text": [
      "(121, 150) (121, 150) (192, 121, 150)\n"
     ]
    }
   ],
   "source": [
    "print(xlon.shape,xlat.shape,al_pcp.shape)"
   ]
  },
  {
   "cell_type": "code",
   "execution_count": 6,
   "id": "0db0e1e9-9a88-444a-8679-423d27a3e04a",
   "metadata": {},
   "outputs": [],
   "source": [
    "## read hgt\n",
    "linkH = '/home/bayu/DATA/LIRIC/OMAN/geog/'\n",
    "file = 'geo_em.d01.nc'\n",
    "hgt,lonh,lath = read_nc(linkH+file)\n",
    "## get rid of anything less than 0 m\n",
    "hgt = hgt.where(hgt >= 1)"
   ]
  },
  {
   "cell_type": "code",
   "execution_count": 7,
   "id": "05567456-9686-4a67-8e1e-5243d3ef8df8",
   "metadata": {},
   "outputs": [],
   "source": [
    "xticks = np.arange(50.,64.,1)\n",
    "yticks = np.arange(16.,28.,1)\n",
    "## create background\n",
    "crs = ccrs.PlateCarree()\n",
    "def plot_background(ax):\n",
    "    ax.set_extent([50.,64.,16.,28.], ccrs.PlateCarree())\n",
    "    ax.add_feature(cfeature.COASTLINE.with_scale('50m'),linewidth=1.4,zorder=3)\n",
    "    ax.add_feature(cfeature.BORDERS,linestyle=':',linewidth=0.4,zorder=3)\n",
    "    #ax.add_feature(cfeature.STATES,linestyle=':',linewidth=0.9,zorder=3)\n",
    "    ax.set_xticks(xticks, crs=ccrs.PlateCarree())\n",
    "    ax.set_yticks(yticks, crs=ccrs.PlateCarree())\n",
    "    ax.set_xticklabels(xticks, rotation=0, fontsize=12)\n",
    "    ax.set_yticklabels(yticks, rotation=0, fontsize=12)\n",
    "    ax.xaxis.set_major_formatter(LongitudeFormatter(zero_direction_label=True))\n",
    "    ax.yaxis.set_major_formatter(LatitudeFormatter())\n",
    "    \n",
    "    gl = ax.gridlines(ccrs.PlateCarree(),draw_labels=False,linewidth=2,color='gray',\n",
    "                     alpha=0.5, linestyle='--')\n",
    "    gl.xlabels_top = False\n",
    "    gl.xlabels_bottom = False\n",
    "    gl.ylabels_left = False\n",
    "    gl.ylabels_right = False\n",
    "    gl.xlines = False; gl.ylines = False\n",
    "    gl.xlocator = mticker.FixedLocator(xticks)\n",
    "    gl.ylocator = mticker.FixedLocator(yticks)\n",
    "    \n",
    "    return ax"
   ]
  },
  {
   "cell_type": "code",
   "execution_count": 8,
   "id": "54eaf28e-9754-4390-ac44-1c5e8d08b470",
   "metadata": {},
   "outputs": [],
   "source": [
    "# create Precip color\n",
    "pcp_colors = ['#ffffff','#00eeee','#00b2ee','#1e90ff','#104e8b',\n",
    "             '#7fff00','#00cd00','#008b00','#ffff00','#ffd700',\n",
    "             '#cd8500','#ff7f00','#ee4000','#cd0000','#ec5959',\n",
    "             '#ffaeb9','#8968cd','#912cee','#8b008b']\n",
    "\n",
    "varval     = [0., 1, 2, 3, 5, 10, 15, 20, 25, 30, 35,\n",
    "               40, 45, 50, 75, 100, 125, 150, 200, 300]\n",
    "\n",
    "precip_cmap = mcolors.ListedColormap(pcp_colors,'precipitation')\n",
    "adjnorm = mcolors.BoundaryNorm(varval,precip_cmap.N) \n",
    "\n",
    "var_hr = [0.,1, 2, 3, 4, 6, 8, 10, 12, 14, 16, 18, 20, 25, \n",
    "          30, 35, 40, 45, 50, 60]\n",
    "precip_hr = mcolors.ListedColormap(pcp_colors,'precip_hr')\n",
    "adjnorm_hr = mcolors.BoundaryNorm(var_hr,precip_hr.N)"
   ]
  },
  {
   "cell_type": "code",
   "execution_count": 9,
   "id": "123b0345-281a-4b50-b5eb-bbcbcd770724",
   "metadata": {},
   "outputs": [
    {
     "ename": "IndentationError",
     "evalue": "unexpected indent (3415988303.py, line 14)",
     "output_type": "error",
     "traceback": [
      "\u001b[0;36m  Cell \u001b[0;32mIn[9], line 14\u001b[0;36m\u001b[0m\n\u001b[0;31m    loc='center',pad=5,fontsize=14)\u001b[0m\n\u001b[0m    ^\u001b[0m\n\u001b[0;31mIndentationError\u001b[0m\u001b[0;31m:\u001b[0m unexpected indent\n"
     ]
    }
   ],
   "source": [
    "## PLOT HERE\n",
    "projection = ccrs.PlateCarree()\n",
    "for i in range(len(dateList)):\n",
    "    fig, ax1 = plt.subplots(1, 1, figsize=(10, 10),\n",
    "                                   subplot_kw={'projection': projection})\n",
    "## AX1\n",
    "    plot_background(ax1)\n",
    "## plot terrae height\n",
    "    pcp1 = ax1.contourf(xlon,xlat,al_pcp[i,:,:],\n",
    "                      var_hr,cmap=precip_hr,norm=adjnorm_hr,transform=projection)\n",
    "    top1 = ax1.contour(lonh,lath,hgt,11,vmin=0,vmax=2500,colors='k',linewidths=0.6)\n",
    "\n",
    "    ax1.set_title('GPMF Rain'+' at '+dateList[i]+' Z',\n",
    "                         loc='center',pad=5,fontsize=14) \n",
    "#Add height colorbar\n",
    "    cax = fig.colorbar(pcp1,ticks=var_hr,ax=ax1,orientation='horizontal',shrink=0.98,aspect=50,pad=0.04)\n",
    "    cax.ax.tick_params(labelsize=16)\n",
    "\n",
    "    lat_MCT = 23.5880\n",
    "    lon_MCT = 58.3829 \n",
    "    ax1.plot(lon_MCT,lat_MCT, marker='*',markerfacecolor='none', \n",
    "                 markeredgecolor='k', markersize=16, transform=projection)\n",
    "\n",
    "## SAVE\n",
    "    #dir_out = '/home/bayu/PLOTS/LIRIC/samples/'\n",
    "    #plotfile  = 'OMAN_'+dateList[i]+'Z.png'\n",
    "    #sf = fig.savefig(dir_out+plotfile, dpi=300, bbox_inches='tight')\n",
    "\n",
    "## CLOSE\n",
    "    plt.show()\n",
    "    plt.close()"
   ]
  },
  {
   "cell_type": "code",
   "execution_count": null,
   "id": "2def4845-b825-4bea-85d4-302e71430f09",
   "metadata": {},
   "outputs": [],
   "source": []
  }
 ],
 "metadata": {
  "kernelspec": {
   "display_name": "Python 3 (ipykernel)",
   "language": "python",
   "name": "python3"
  },
  "language_info": {
   "codemirror_mode": {
    "name": "ipython",
    "version": 3
   },
   "file_extension": ".py",
   "mimetype": "text/x-python",
   "name": "python",
   "nbconvert_exporter": "python",
   "pygments_lexer": "ipython3",
   "version": "3.12.4"
  }
 },
 "nbformat": 4,
 "nbformat_minor": 5
}
