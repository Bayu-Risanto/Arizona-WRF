{
 "cells": [
  {
   "cell_type": "code",
   "execution_count": 1,
   "id": "ac9dd3d1",
   "metadata": {},
   "outputs": [],
   "source": [
    "## THis script is to extract PWV DETERMINISTIC RUN \n",
    "#from sites using bilinear interpolation version 02\n",
    "## modified from Sam Shohan (16 November 2023) and translated from MATLAB (JMM and CBR 2019)\n",
    "import warnings\n",
    "warnings.filterwarnings('ignore')\n",
    "import numpy as np\n",
    "import random\n",
    "import pandas as pd\n",
    "import xarray as xr\n",
    "from scipy.interpolate import griddata\n",
    "import gzip\n",
    "from netCDF4 import Dataset,num2date\n",
    "import time\n",
    "import matplotlib.pyplot as plt\n",
    "import matplotlib as mplt\n",
    "import cartopy.crs as ccrs\n",
    "import cartopy.feature as cfea\n",
    "from mpl_toolkits.axes_grid1 import make_axes_locatable\n",
    "from cartopy import feature as cf\n",
    "from matplotlib.colors import ListedColormap,LinearSegmentedColormap\n",
    "from cartopy.mpl.gridliner import LONGITUDE_FORMATTER, LATITUDE_FORMATTER\n",
    "import matplotlib.ticker as mticker\n",
    "import matplotlib.colors\n",
    "import os \n",
    "import glob\n",
    "from get_PWVgrid import get_griddedPWV, get_griddedPWV_abs\n",
    "def read_nx(ncfile):\n",
    "    dx = xr.open_dataset(ncfile)\n",
    "    pwv = dx.PWV[:,:]\n",
    "    return pwv\n",
    "##### Define the bilinear interpolation function #######################################\n",
    "def bilinear_interpolation(x, y, lon, lat, data):\n",
    "    points = np.column_stack((lon.values.ravel(), lat.values.ravel()))\n",
    "    values = data.ravel()\n",
    "    interp_values = griddata(points, values, (x, y), method='linear')\n",
    "    return interp_values"
   ]
  },
  {
   "cell_type": "code",
   "execution_count": 2,
   "id": "11a83ea7",
   "metadata": {},
   "outputs": [],
   "source": [
    "## get data here\n",
    "dir_in = '20210815_06Z_40mem_0035_6cyc_vertisundef_assim'\n",
    "\n",
    "wrf_path = '/net/stratus/st6/bayu/ARIZONA_PRO/DART_deterministic/'+dir_in+'/'\n",
    "wrf_files = glob.glob(wrf_path + 'wrfout_d02*')\n",
    "dir_out = '/home/bayu/Documents/ARIZONA-WRF/wrf_out/'+dir_in+'/'\n",
    "\n",
    "# Read station information from the text file\n",
    "sta_data = []\n",
    "\n",
    "pathmeta = '/net/stratus/st6/bayu/ARIZONA_PRO/metadata/'\n",
    "with open(pathmeta + 'GPS_DAVID-SUOMI_sites_2021.txt', 'r') as station_file:\n",
    "    for line in station_file:\n",
    "        parts = line.split()\n",
    "        if len(parts) >= 3:  # Ensure there's at least one word after splitting\n",
    "            lon, lat, hgt, name = parts\n",
    "            lon = float(lon)\n",
    "            lat = float(lat)\n",
    "            name = str(name)\n",
    "            height = float(hgt)\n",
    "            sta_data.append((lon, lat, height, name))"
   ]
  },
  {
   "cell_type": "code",
   "execution_count": 3,
   "id": "f5c52d44",
   "metadata": {},
   "outputs": [
    {
     "name": "stdout",
     "output_type": "stream",
     "text": [
      "19\n"
     ]
    }
   ],
   "source": [
    "print(len(wrf_files))"
   ]
  },
  {
   "cell_type": "code",
   "execution_count": 4,
   "id": "3a6921e7",
   "metadata": {},
   "outputs": [
    {
     "name": "stdout",
     "output_type": "stream",
     "text": [
      "working on /net/stratus/st6/bayu/ARIZONA_PRO/DART_deterministic/20210815_06Z_40mem_0035_6cyc_vertisundef_assim/wrfout_d02_2021-08-15_18:00:00\n",
      "working on /net/stratus/st6/bayu/ARIZONA_PRO/DART_deterministic/20210815_06Z_40mem_0035_6cyc_vertisundef_assim/wrfout_d02_2021-08-15_19:00:00\n",
      "working on /net/stratus/st6/bayu/ARIZONA_PRO/DART_deterministic/20210815_06Z_40mem_0035_6cyc_vertisundef_assim/wrfout_d02_2021-08-15_20:00:00\n",
      "working on /net/stratus/st6/bayu/ARIZONA_PRO/DART_deterministic/20210815_06Z_40mem_0035_6cyc_vertisundef_assim/wrfout_d02_2021-08-15_21:00:00\n",
      "working on /net/stratus/st6/bayu/ARIZONA_PRO/DART_deterministic/20210815_06Z_40mem_0035_6cyc_vertisundef_assim/wrfout_d02_2021-08-15_22:00:00\n",
      "working on /net/stratus/st6/bayu/ARIZONA_PRO/DART_deterministic/20210815_06Z_40mem_0035_6cyc_vertisundef_assim/wrfout_d02_2021-08-15_23:00:00\n",
      "working on /net/stratus/st6/bayu/ARIZONA_PRO/DART_deterministic/20210815_06Z_40mem_0035_6cyc_vertisundef_assim/wrfout_d02_2021-08-16_00:00:00\n",
      "working on /net/stratus/st6/bayu/ARIZONA_PRO/DART_deterministic/20210815_06Z_40mem_0035_6cyc_vertisundef_assim/wrfout_d02_2021-08-16_01:00:00\n",
      "working on /net/stratus/st6/bayu/ARIZONA_PRO/DART_deterministic/20210815_06Z_40mem_0035_6cyc_vertisundef_assim/wrfout_d02_2021-08-16_02:00:00\n",
      "working on /net/stratus/st6/bayu/ARIZONA_PRO/DART_deterministic/20210815_06Z_40mem_0035_6cyc_vertisundef_assim/wrfout_d02_2021-08-16_03:00:00\n",
      "working on /net/stratus/st6/bayu/ARIZONA_PRO/DART_deterministic/20210815_06Z_40mem_0035_6cyc_vertisundef_assim/wrfout_d02_2021-08-16_04:00:00\n",
      "working on /net/stratus/st6/bayu/ARIZONA_PRO/DART_deterministic/20210815_06Z_40mem_0035_6cyc_vertisundef_assim/wrfout_d02_2021-08-16_05:00:00\n",
      "working on /net/stratus/st6/bayu/ARIZONA_PRO/DART_deterministic/20210815_06Z_40mem_0035_6cyc_vertisundef_assim/wrfout_d02_2021-08-16_06:00:00\n",
      "working on /net/stratus/st6/bayu/ARIZONA_PRO/DART_deterministic/20210815_06Z_40mem_0035_6cyc_vertisundef_assim/wrfout_d02_2021-08-16_07:00:00\n",
      "working on /net/stratus/st6/bayu/ARIZONA_PRO/DART_deterministic/20210815_06Z_40mem_0035_6cyc_vertisundef_assim/wrfout_d02_2021-08-16_08:00:00\n",
      "working on /net/stratus/st6/bayu/ARIZONA_PRO/DART_deterministic/20210815_06Z_40mem_0035_6cyc_vertisundef_assim/wrfout_d02_2021-08-16_09:00:00\n",
      "working on /net/stratus/st6/bayu/ARIZONA_PRO/DART_deterministic/20210815_06Z_40mem_0035_6cyc_vertisundef_assim/wrfout_d02_2021-08-16_10:00:00\n",
      "working on /net/stratus/st6/bayu/ARIZONA_PRO/DART_deterministic/20210815_06Z_40mem_0035_6cyc_vertisundef_assim/wrfout_d02_2021-08-16_11:00:00\n",
      "working on /net/stratus/st6/bayu/ARIZONA_PRO/DART_deterministic/20210815_06Z_40mem_0035_6cyc_vertisundef_assim/wrfout_d02_2021-08-16_12:00:00\n"
     ]
    }
   ],
   "source": [
    "# define the output file\n",
    "output_file = dir_out + 'GPSequiv_DETR_sta_pwv.dat'\n",
    "\n",
    "## Loop through the files\n",
    "for cycle in range(len(wrf_files)):\n",
    "    data = xr.open_dataset(wrf_files[cycle])\n",
    "    time = data.Times.values\n",
    "    timee = time.astype('U19')\n",
    "    PWV,XLON,XLAT = get_griddedPWV_abs(wrf_files[cycle])\n",
    "    print('working on '+wrf_files[cycle])\n",
    "    with open(output_file, 'a') as outfile:\n",
    "            for lon, lat, height, name in sta_data:\n",
    "                pwv = bilinear_interpolation(lon, lat, XLON, XLAT, PWV)\n",
    "                pwv_value = pwv  # Assign the interpolated value directly\n",
    "                outfile.write(f\"{name},{height},{lon},{lat},{timee},{pwv_value}\\n\")"
   ]
  },
  {
   "cell_type": "code",
   "execution_count": null,
   "id": "1e9ffadb",
   "metadata": {},
   "outputs": [],
   "source": []
  }
 ],
 "metadata": {
  "kernelspec": {
   "display_name": "Python 3 (ipykernel)",
   "language": "python",
   "name": "python3"
  },
  "language_info": {
   "codemirror_mode": {
    "name": "ipython",
    "version": 3
   },
   "file_extension": ".py",
   "mimetype": "text/x-python",
   "name": "python",
   "nbconvert_exporter": "python",
   "pygments_lexer": "ipython3",
   "version": "3.12.4"
  }
 },
 "nbformat": 4,
 "nbformat_minor": 5
}
