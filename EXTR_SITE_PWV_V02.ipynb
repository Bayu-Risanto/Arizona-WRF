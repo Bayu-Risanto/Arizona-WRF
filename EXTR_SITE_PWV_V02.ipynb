## THis script is to extract PWV DETERMINISTIC RUN 
#from sites using bilinear interpolation version 02
## modified from Sam Shohan (16 November 2023) and translated from MATLAB (JMM and CBR 2019)
import warnings
warnings.filterwarnings('ignore')
import numpy as np
import random
import pandas as pd
import xarray as xr
from scipy.interpolate import griddata
import gzip
from netCDF4 import Dataset,num2date
import time
import matplotlib.pyplot as plt
import matplotlib as mplt
import cartopy.crs as ccrs
import cartopy.feature as cfea
from mpl_toolkits.axes_grid1 import make_axes_locatable
from cartopy import feature as cf
from matplotlib.colors import ListedColormap,LinearSegmentedColormap
from cartopy.mpl.gridliner import LONGITUDE_FORMATTER, LATITUDE_FORMATTER
import matplotlib.ticker as mticker
import matplotlib.colors
import os 
import glob
from get_PWVgrid import get_griddedPWV, get_griddedPWV_abs
def read_nx(ncfile):
    dx = xr.open_dataset(ncfile)
    pwv = dx.PWV[:,:]
    return pwv
##### Define the bilinear interpolation function #######################################
def bilinear_interpolation(x, y, lon, lat, data):
    points = np.column_stack((lon.values.ravel(), lat.values.ravel()))
    values = data.ravel()
    interp_values = griddata(points, values, (x, y), method='linear')
    return interp_values
