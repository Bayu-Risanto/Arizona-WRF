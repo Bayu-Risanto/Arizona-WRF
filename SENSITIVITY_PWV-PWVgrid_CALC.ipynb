{
 "cells": [
  {
   "cell_type": "code",
   "execution_count": 1,
   "id": "8ab34a04",
   "metadata": {},
   "outputs": [],
   "source": [
    "## This script is to calculate sensitivity of the site at initial\n",
    "## to the domain at future forecast hour (fh) ;; input from CALCUL_PWVgrid_V02.ipynb\n",
    "## ;;; move manually to stratus\n",
    "## Created by C. Bayu Risanto, S.J. (23 February 2024)\n",
    "import warnings\n",
    "warnings.filterwarnings('ignore')\n",
    "import numpy as np\n",
    "import random\n",
    "import pandas as pd\n",
    "import xarray as xr\n",
    "from scipy.interpolate import griddata\n",
    "from scipy.io import savemat\n",
    "from scipy import stats\n",
    "from sklearn.metrics import mean_squared_error\n",
    "from math import sqrt\n",
    "import math as math\n",
    "import time\n",
    "import glob\n",
    "from datetime import date, datetime, timedelta\n",
    "## opener\n",
    "def read_nx(ncfile):\n",
    "    dx = xr.open_dataset(ncfile)\n",
    "    pwv = dx.PWV[:,:]\n",
    "    return pwv"
   ]
  },
  {
   "cell_type": "code",
   "execution_count": 2,
   "id": "e0d15dea",
   "metadata": {},
   "outputs": [
    {
     "name": "stdout",
     "output_type": "stream",
     "text": [
      "(40, 405, 684)\n"
     ]
    }
   ],
   "source": [
    "## read grid data of forecast hours\n",
    "path = '/net/stratus/st8/bayu/ARIZONA-WRF/DART_runs/'\n",
    "dirin = '20210815_06Z_40mem_06Z_0035_6cyc_noassim'\n",
    "to_fh = '2021-08-15_18:00'\n",
    "fis = glob.glob(path+dirin+'/'+'extract'+'/'+'mem*'+'/'+'PWV_d02_'+to_fh+'.nc') \n",
    "\n",
    "## collect data\n",
    "pwv = [read_nx(fis[iens]) for iens in range(len(fis))]\n",
    "PWV = np.asarray(pwv)  ; print(PWV.shape)"
   ]
  },
  {
   "cell_type": "code",
   "execution_count": 3,
   "id": "d63df0dc",
   "metadata": {},
   "outputs": [],
   "source": [
    "## read site data of initial forecast\n",
    "## loop carefully. \n",
    "FCT_all = []\n",
    "for iens in range(40):\n",
    "    dfileCY = 'GPSequiv_CYC_staENS'+str(iens+1).zfill(2)+'_pwv.dat'\n",
    "    with open(path+dirin+'/'+'extract'+'/'+dfileCY,'r') as file:\n",
    "        # Read the contents of the original file\n",
    "        file_contentsCY = file.readlines()\n",
    "    \n",
    "    # Process and modify the data\n",
    "    val_dataCY = []; sitesCY = []; latlonCY = []; timeCY = []\n",
    "    for line in file_contentsCY:\n",
    "        parts = line.strip().split(\",\")  # Split the line using commas as the delimiter\n",
    "        if len(parts) == 6:\n",
    "            stname = parts[0]\n",
    "            hgt = float(parts[1])\n",
    "            timestamp = parts[4]\n",
    "            value = float(parts[5])\n",
    "            val_dataCY.append(value)\n",
    "            sitesCY.append(stname)\n",
    "            timeCY.append(timestamp)\n",
    "    # make array of sites X times AND array of nens X sites X times\n",
    "    Fct_pwv = []\n",
    "    SITE = sitesCY[0:33]\n",
    "    st = np.asarray(sitesCY)\n",
    "    for isite in range(len(SITE)):\n",
    "        ixst = np.asarray(np.where(st == SITE[isite]))\n",
    "        allpwvCY = np.asarray(val_dataCY)\n",
    "        st_pwvCY = np.squeeze(allpwvCY[ixst])\n",
    "        Fct_pwv.append(st_pwvCY)\n",
    "    Fct_pwv = np.asarray(Fct_pwv)\n",
    "    FCT_all.append(Fct_pwv)  \n",
    "FCT_all = np.asarray(FCT_all)  ; #print(FCT_all.shape)"
   ]
  },
  {
   "cell_type": "code",
   "execution_count": 4,
   "id": "d3292abc",
   "metadata": {},
   "outputs": [],
   "source": [
    "## Let's calculate sensitivity of the domain at certain time to the change of the site at initial condition\n",
    "itim = 0  #suggest: keep it initial time (i.e.,0)\n",
    "ista = 31  #change the site here!!!!!!!!!!\n",
    "\n",
    "##*********** BE SUPER CAREFUL in MODIFYING *********************************************\n",
    "nens,ny,nx = PWV.shape\n",
    "sentiv = [[(np.cov(PWV[:,jg,ig],FCT_all[:,ista,itim])[0,1]/np.var(FCT_all[:,ista,itim]))\n",
    "           *(np.mean(FCT_all[:,ista,itim])/np.mean(PWV[:,jg,ig])) for jg in range(ny)] for ig in range(nx)]\n",
    "SENSI = np.asarray(sentiv).T\n",
    "\n",
    "## let's calculate p-value\n",
    "value = float('nan')\n",
    "pval = [[stats.pearsonr(PWV[:,jg,ig],FCT_all[:,ista,itim]) if SENSI[jg,ig] != value else value\n",
    "         for jg in range(ny)] for ig in range(nx)] \n",
    "PVAL = np.asarray(pval)[:,:,1].T\n",
    "\n",
    "##**************** END *******************************************************************\n",
    "\n",
    "## save in mat file for easy storage\n",
    "dir_out = '/home/bayu/Documents/ARIZONA-WRF/wrf_out/'+dirin+'/SENSITIVITY/'\n",
    "output_file = dir_out + 'sensitive_PWV-'+to_fh+'-'+SITE[ista]+'.mat'\n",
    "mdic = {'SENS':SENSI,'PVAL':PVAL}\n",
    "savemat(output_file,mdic)"
   ]
  },
  {
   "cell_type": "code",
   "execution_count": 6,
   "id": "150ba392",
   "metadata": {},
   "outputs": [
    {
     "name": "stdout",
     "output_type": "stream",
     "text": [
      "save site 9\n",
      "save site 10\n",
      "save site 11\n",
      "save site 12\n",
      "save site 13\n",
      "save site 14\n",
      "save site 15\n",
      "save site 16\n",
      "save site 17\n",
      "save site 18\n",
      "save site 19\n",
      "save site 20\n",
      "save site 21\n",
      "save site 22\n",
      "save site 23\n",
      "save site 24\n",
      "save site 25\n",
      "save site 26\n",
      "save site 27\n",
      "save site 28\n",
      "save site 29\n"
     ]
    }
   ],
   "source": [
    "## make LOOP\n",
    "itim = 0  #suggest: keep it initial time (i.e.,0)\n",
    "A = np.arange(0,8,1)\n",
    "B = np.arange(9,30,1)\n",
    "\n",
    "for ins in B:\n",
    "    ista = ins  #change the site here!!!!!!!!!! avoid 8, 30, and 32\n",
    "\n",
    "##*********** BE SUPER CAREFUL in MODIFYING *********************************************\n",
    "    nens,ny,nx = PWV.shape\n",
    "    sentiv = [[(np.cov(PWV[:,jg,ig],FCT_all[:,ista,itim])[0,1]/np.var(FCT_all[:,ista,itim]))\n",
    "               *(np.mean(FCT_all[:,ista,itim])/np.mean(PWV[:,jg,ig])) for jg in range(ny)] for ig in range(nx)]\n",
    "    SENSI = np.asarray(sentiv).T\n",
    "\n",
    "## let's calculate p-value\n",
    "    value = float('nan')\n",
    "    pval = [[stats.pearsonr(PWV[:,jg,ig],FCT_all[:,ista,itim]) if SENSI[jg,ig] != value else value\n",
    "             for jg in range(ny)] for ig in range(nx)] \n",
    "    PVAL = np.asarray(pval)[:,:,1].T\n",
    "\n",
    "##**************** END *******************************************************************\n",
    "\n",
    "## save in mat file for easy storage\n",
    "    dir_out = '/home/bayu/Documents/ARIZONA-WRF/wrf_out/'+dirin+'/SENSITIVITY/'\n",
    "    output_file = dir_out + 'sensitive_PWV-'+to_fh+'-'+SITE[ista]+'.mat'\n",
    "    mdic = {'SENS':SENSI,'PVAL':PVAL}\n",
    "    savemat(output_file,mdic)\n",
    "    \n",
    "    print('save site '+str(ins))"
   ]
  },
  {
   "cell_type": "code",
   "execution_count": 50,
   "id": "c3dd13aa",
   "metadata": {},
   "outputs": [
    {
     "name": "stdout",
     "output_type": "stream",
     "text": [
      "[ 9 10 11 12 13 14 15 16 17 18 19 20 21 22 23 24 25 26 27 28 29]\n"
     ]
    }
   ],
   "source": [
    "print(np.arange(9,30,1))"
   ]
  },
  {
   "cell_type": "code",
   "execution_count": null,
   "id": "b5cfd385",
   "metadata": {},
   "outputs": [],
   "source": []
  }
 ],
 "metadata": {
  "kernelspec": {
   "display_name": "Python 3 (ipykernel)",
   "language": "python",
   "name": "python3"
  },
  "language_info": {
   "codemirror_mode": {
    "name": "ipython",
    "version": 3
   },
   "file_extension": ".py",
   "mimetype": "text/x-python",
   "name": "python",
   "nbconvert_exporter": "python",
   "pygments_lexer": "ipython3",
   "version": "3.12.4"
  }
 },
 "nbformat": 4,
 "nbformat_minor": 5
}
