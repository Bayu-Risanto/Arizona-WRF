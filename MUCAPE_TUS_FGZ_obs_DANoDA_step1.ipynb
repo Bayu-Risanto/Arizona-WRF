{
 "cells": [
  {
   "cell_type": "code",
   "execution_count": 1,
   "id": "ad106e25-7a60-4792-9834-ef977bfcfb1c",
   "metadata": {},
   "outputs": [],
   "source": [
    "## This script is to plot mean DA MUCAPE, mean NoDA MUCAPE, and mean RAOB MUCAPE\n",
    "## from Tucson (TUS) and Flagstaff (FGZ) at 00 UTC and 12 UTC >>>>>>>> STEP 1\n",
    "## go to next step ....\n",
    "## Created by C. Bayu Risanto, S.J. (9 September 2025)\n",
    "import warnings\n",
    "warnings.filterwarnings('ignore')\n",
    "import numpy as np\n",
    "from numpy import matlib\n",
    "import pandas as pd\n",
    "import xarray as xr\n",
    "from scipy import stats\n",
    "from scipy.io import loadmat,savemat \n",
    "from scipy.interpolate import griddata\n",
    "import cartopy.crs as ccrs\n",
    "import cartopy.feature as cfeature\n",
    "import matplotlib.ticker as mticker\n",
    "import matplotlib.pyplot as plt\n",
    "import matplotlib.patches as mpatches\n",
    "import matplotlib.colors as mplotcolors\n",
    "from matplotlib import cm\n",
    "from cartopy.mpl.ticker import LongitudeFormatter, LatitudeFormatter\n",
    "from cartopy.mpl.gridliner import LONGITUDE_FORMATTER, LATITUDE_FORMATTER\n",
    "from datetime import date, datetime, timedelta\n",
    "import glob\n",
    "def read_nx(ncfile):\n",
    "    dx = xr.open_dataset(ncfile)\n",
    "    mcape = dx.mcape[:,:]\n",
    "    return mcape\n",
    "def read_latlon(ncfile):\n",
    "    dx = xr.open_dataset(ncfile)\n",
    "    lat = dx.XLAT[0,:,:]\n",
    "    lon = dx.XLONG[0,:,:]\n",
    "    return lat,lon\n",
    "##### Define the bilinear interpolation function #######################################\n",
    "def bilinear_interpolation(x, y, lon, lat, data):\n",
    "    points = np.column_stack((lon.values.ravel(), lat.values.ravel()))\n",
    "    values = data.ravel()\n",
    "    interp_values = griddata(points, values, (x, y), method='linear')\n",
    "    return interp_values"
   ]
  },
  {
   "cell_type": "code",
   "execution_count": 2,
   "id": "1d36556f-eee6-44cc-a481-ce5307766230",
   "metadata": {},
   "outputs": [],
   "source": [
    "## days of rain\n",
    "DR = ['2021-07-03','2021-07-09','2021-07-10','2021-07-12','2021-07-13','2021-07-14',\n",
    "      '2021-07-15','2021-07-16','2021-07-18','2021-07-21','2021-07-22','2021-07-23',\n",
    "      '2021-07-24','2021-07-25','2021-07-29','2021-07-30','2021-08-10','2021-08-11',\n",
    "      '2021-08-13','2021-08-15','2021-08-16','2021-08-30','2021-08-31','2021-09-01']"
   ]
  },
  {
   "cell_type": "code",
   "execution_count": 3,
   "id": "1525ead0-9500-4881-92b5-1360907600d9",
   "metadata": {},
   "outputs": [],
   "source": [
    "## read data DETER both DA and NODA\n",
    "path = '/secchi/bayu/DATA/ARIZONA_PRO/WRF_EXTR/WRF_OUT'\n",
    "hor = [18,19,20,21,22,23,00,1,2,3,4,5,6,7,8,9,10,11,12]\n",
    "aCY = [] ; aNY = []\n",
    "for ih in hor:\n",
    "    mcapCY = [] ; mcapNY = []\n",
    "    for i in range(len(DR)):\n",
    "        dir1 = DR[i][0:4]+DR[i][5:7]+DR[i][8:10]+'_06Z_mc08_40mem_0035_6cyc_assim'\n",
    "        dir2 = DR[i][0:4]+DR[i][5:7]+DR[i][8:10]+'_06Z_mc08_40mem_0035_6cyc_noassim'\n",
    "        fCY = 'ncl-2D_d02_*_'+str(ih).zfill(2)+':00:00.nc'\n",
    "        fNY = 'ncl-2D_d02_*_'+str(ih).zfill(2)+':00:00.nc'\n",
    "        Lcy = glob.glob(path+'/'+dir1+'/'+fCY); Lny = glob.glob(path+'/'+dir2+'/'+fNY)\n",
    "        capCY = read_nx(Lcy[0])\n",
    "        capNY = read_nx(Lny[0])\n",
    "        mcapCY.append(capCY); mcapNY.append(capNY)\n",
    "    mcapCY = np.asarray(mcapCY); mcapNY = np.asarray(mcapNY)\n",
    "    aCY.append(mcapCY); aNY.append(mcapNY)\n",
    "aCY = np.asarray(aCY); aNY = np.asarray(aNY)"
   ]
  },
  {
   "cell_type": "code",
   "execution_count": 4,
   "id": "37c605ab-98de-4165-9c6d-d69ac4245c0f",
   "metadata": {},
   "outputs": [],
   "source": [
    "## Calculate the mean\n",
    "mu_CY = np.nanmean(aCY,axis=1)\n",
    "mu_NY = np.nanmean(aNY,axis=1)"
   ]
  },
  {
   "cell_type": "code",
   "execution_count": 5,
   "id": "72d31761-145a-43d0-84b6-3b4355291a64",
   "metadata": {},
   "outputs": [
    {
     "name": "stdout",
     "output_type": "stream",
     "text": [
      "(19, 405, 684)\n"
     ]
    }
   ],
   "source": [
    "print(mu_NY.shape)"
   ]
  },
  {
   "cell_type": "code",
   "execution_count": 6,
   "id": "3e84d1a6-b85c-414d-8bdd-a8f730a78019",
   "metadata": {},
   "outputs": [],
   "source": [
    "## get latlon\n",
    "pathlx = '/secchi/bayu/DATA/ARIZONA_PRO/metadata/'\n",
    "xlat,xlon = read_latlon(pathlx+'lonlat.nc')"
   ]
  },
  {
   "cell_type": "code",
   "execution_count": 7,
   "id": "c90e8ff6-97cf-41c1-94cc-00a0b94cf9d1",
   "metadata": {},
   "outputs": [],
   "source": [
    "## EXTRACT Tucson and Flagstaff \n",
    "lat_TUS = 32.25\n",
    "lon_TUS = -110.97 \n",
    "\n",
    "lat_FGZ = 35.1983\n",
    "lon_FGZ = -111.6513\n",
    "\n",
    "DAMU_tus = []; NOMU_tus = [] ; DAMU_fgz = []; NOMU_fgz = []\n",
    "for i in range(len(mu_CY[:,1,1])):\n",
    "    DAmucape_tus = bilinear_interpolation(lon_TUS,lat_TUS,xlon,xlat,mu_CY[i,:,:])\n",
    "    DAmucape_fgz = bilinear_interpolation(lon_FGZ,lat_FGZ,xlon,xlat,mu_CY[i,:,:])\n",
    "\n",
    "    NOmucape_tus = bilinear_interpolation(lon_TUS,lat_TUS,xlon,xlat,mu_NY[i,:,:])\n",
    "    NOmucape_fgz = bilinear_interpolation(lon_FGZ,lat_FGZ,xlon,xlat,mu_NY[i,:,:])\n",
    "\n",
    "    DAMU_tus.append(DAmucape_tus); NOMU_tus.append(NOmucape_tus);\n",
    "    DAMU_fgz.append(DAmucape_fgz); NOMU_fgz.append(NOmucape_fgz);\n",
    "DAMU_tus = np.asarray(DAMU_tus); NOMU_tus = np.asarray(NOMU_tus);\n",
    "DAMU_fgz = np.asarray(DAMU_fgz); NOMU_fgz = np.asarray(NOMU_fgz)\n"
   ]
  },
  {
   "cell_type": "code",
   "execution_count": 10,
   "id": "ed46a61e-7928-49ef-b032-0eaf23113308",
   "metadata": {},
   "outputs": [
    {
     "name": "stdout",
     "output_type": "stream",
     "text": [
      "[1075.72866162 1340.90816564 1318.74787352 1196.05855836 1215.52951094\n",
      " 1173.99736793  942.22350992  799.4817218   661.93880341  628.97571064\n",
      "  603.45959412  560.56466729  467.14537204  364.05756111  340.25650313\n",
      "  338.44130141  284.87070485  287.85810001  277.24634663]\n",
      "[332.89135417 381.33550002 425.44395675 417.12367078 449.82987577\n",
      " 454.85762312 433.18028587 354.29769002 382.32215349 422.80191055\n",
      " 639.34536369 535.13168635 471.6993718  480.19781499 404.05695529\n",
      " 415.49744211 419.759565   403.90667151 409.35427509]\n"
     ]
    }
   ],
   "source": [
    "print(DAMU_tus)\n",
    "print(NOMU_tus)"
   ]
  },
  {
   "cell_type": "code",
   "execution_count": 9,
   "id": "9591d40b-620c-4433-b175-9d42aa564fa7",
   "metadata": {},
   "outputs": [],
   "source": [
    "## save the results here to avoid a long time calculation\n",
    "dir_out = '/secchi/bayu/DATA/ARIZONA_PRO/WRF_EXTR/WRF-RAOB/MUCAPE_extr/'\n",
    "fileout = 'TUS_mean_MUCAPE_DANoDA.mat' \n",
    "output_file0 = dir_out + fileout\n",
    "mdic0 = {'DA':DAMU_tus,'NoDA':NOMU_tus}\n",
    "savemat(output_file0,mdic0)\n",
    "\n",
    "fileout = 'FGZ_mean_MUCAPE_DANoDA.mat' \n",
    "output_file0 = dir_out + fileout\n",
    "mdic0 = {'DA':DAMU_fgz,'NoDA':NOMU_fgz}\n",
    "savemat(output_file0,mdic0)"
   ]
  },
  {
   "cell_type": "code",
   "execution_count": null,
   "id": "c54701e6-6d92-482e-a434-0a72678b24f6",
   "metadata": {},
   "outputs": [],
   "source": []
  }
 ],
 "metadata": {
  "kernelspec": {
   "display_name": "Python 3 (ipykernel)",
   "language": "python",
   "name": "python3"
  },
  "language_info": {
   "codemirror_mode": {
    "name": "ipython",
    "version": 3
   },
   "file_extension": ".py",
   "mimetype": "text/x-python",
   "name": "python",
   "nbconvert_exporter": "python",
   "pygments_lexer": "ipython3",
   "version": "3.12.4"
  }
 },
 "nbformat": 4,
 "nbformat_minor": 5
}
